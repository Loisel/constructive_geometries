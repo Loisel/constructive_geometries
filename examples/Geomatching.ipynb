{
 "cells": [
  {
   "cell_type": "markdown",
   "metadata": {},
   "source": [
    "# Geomatching\n",
    "\n",
    "This notebook shows how to use the `Geomatcher` object in `constructive_geometries`.\n",
    "\n",
    "## Consistent global topology\n",
    "\n",
    "The foundation for the `geomatcher` is a consistent global topology, built using the [Constructive Geometries](https://bitbucket.org/cmutel/constructive-geometries) repository, and provided as a Python library here. The base data is from [Natural Earth](http://www.naturalearthdata.com/), though there has been a number of fixes and added locations.\n",
    "\n",
    "A [topolgy](https://postgis.net/docs/Topology.html) is useful because it comes with guarantees of consistency, as each edge is only stored once. This allows us to do GIS operations using set algebra with the ids of topological faces. Here is an part of the world, as provided in `Constructive Geometries`:\n",
    "\n",
    "<img src=\"japan.png\">\n",
    "\n",
    "As you can see, each polygon is a face, no matter how big or small it is.\n",
    "\n",
    "## Retrieving facial ids\n",
    "\n",
    "As a first try, you can retrieve the faces associated with any given location:"
   ]
  },
  {
   "cell_type": "code",
   "execution_count": 1,
   "metadata": {},
   "outputs": [
    {
     "data": {
      "text/plain": [
       "[6144, 6145, 6146, 6147, 6148, 6149, 6150, 6151, 6152, 6153]"
      ]
     },
     "execution_count": 1,
     "metadata": {},
     "output_type": "execute_result"
    }
   ],
   "source": [
    "from constructive_geometries import *\n",
    "geomatcher = Geomatcher()\n",
    "list(geomatcher['JP'])[:10]"
   ]
  },
  {
   "cell_type": "markdown",
   "metadata": {},
   "source": [
    "Geospatial definitions are namespaced, except for countries. Countries are therefore defined by their ISO two-letter codes, but other data should be referenced by a tuple of its namespace and identifier:"
   ]
  },
  {
   "cell_type": "code",
   "execution_count": 2,
   "metadata": {},
   "outputs": [
    {
     "data": {
      "text/plain": [
       "[2048, 1, 2, 3, 4, 5, 6, 7, 8, 9]"
      ]
     },
     "execution_count": 2,
     "metadata": {},
     "output_type": "execute_result"
    }
   ],
   "source": [
    "list(geomatcher[('ecoinvent', 'NAFTA')])[:10]"
   ]
  },
  {
   "cell_type": "markdown",
   "metadata": {},
   "source": [
    "You can also set a default namespace. The default is `\"ecoinvent\"`. So, the IMAGE regions are loaded by default, and must be retrieved explicitly, while ecoinvent regions will be searched automatically, unless the default namespace is changed."
   ]
  },
  {
   "cell_type": "code",
   "execution_count": 3,
   "metadata": {},
   "outputs": [
    {
     "data": {
      "text/plain": [
       "[2048, 1, 2, 3, 4, 5, 6, 7, 8, 9]"
      ]
     },
     "execution_count": 3,
     "metadata": {},
     "output_type": "execute_result"
    }
   ],
   "source": [
    "list(geomatcher['NAFTA'])[:10]"
   ]
  },
  {
   "cell_type": "markdown",
   "metadata": {},
   "source": [
    "Finally, by default `geomatcher` will search for country names, using [country converter](https://github.com/konstantinstadler/country_converter)."
   ]
  },
  {
   "cell_type": "code",
   "execution_count": 4,
   "metadata": {},
   "outputs": [
    {
     "data": {
      "text/plain": [
       "False"
      ]
     },
     "execution_count": 4,
     "metadata": {},
     "output_type": "execute_result"
    }
   ],
   "source": [
    "'Japan' in geomatcher.topology"
   ]
  },
  {
   "cell_type": "code",
   "execution_count": 5,
   "metadata": {},
   "outputs": [
    {
     "name": "stdout",
     "output_type": "stream",
     "text": [
      "Geomatcher: Used 'JP' for 'Japan'\n"
     ]
    },
    {
     "data": {
      "text/plain": [
       "[6144, 6145, 6146, 6147, 6148, 6149, 6150, 6151, 6152, 6153]"
      ]
     },
     "execution_count": 5,
     "metadata": {},
     "output_type": "execute_result"
    }
   ],
   "source": [
    "list(geomatcher['Japan'])[:10]"
   ]
  },
  {
   "cell_type": "markdown",
   "metadata": {},
   "source": [
    "## GIS operations: intersection, contained, within\n",
    "\n",
    "Geomatcher allows you to do quick GIS calculations."
   ]
  },
  {
   "cell_type": "code",
   "execution_count": 6,
   "metadata": {},
   "outputs": [
    {
     "data": {
      "text/plain": [
       "['GLO',\n",
       " ('ecoinvent', 'UN-AMERICAS'),\n",
       " ('ecoinvent', 'RNA'),\n",
       " ('ecoinvent', 'NAFTA'),\n",
       " ('ecoinvent', 'IAI Area 2, North America'),\n",
       " ('ecoinvent', 'IAI Area 2, without Quebec'),\n",
       " ('ecoinvent', 'US-ASCC'),\n",
       " ('ecoinvent', 'NPCC'),\n",
       " ('ecoinvent', 'US-NPCC'),\n",
       " ('ecoinvent', 'US-HICC'),\n",
       " ('ecoinvent', 'WECC'),\n",
       " ('ecoinvent', 'US-WECC'),\n",
       " ('ecoinvent', 'US-SERC'),\n",
       " ('ecoinvent', 'US-RFC'),\n",
       " ('ecoinvent', 'MRO'),\n",
       " ('ecoinvent', 'US-TRE'),\n",
       " ('ecoinvent', 'US-FRCC'),\n",
       " ('ecoinvent', 'US-MRO'),\n",
       " ('ecoinvent', 'US-SPP')]"
      ]
     },
     "execution_count": 6,
     "metadata": {},
     "output_type": "execute_result"
    }
   ],
   "source": [
    "geomatcher.intersects(\"US\")"
   ]
  },
  {
   "cell_type": "markdown",
   "metadata": {},
   "source": [
    "`contained` gets all locations that are *completely within* this location, whereas `within` gets all locations that *completely contain* this location."
   ]
  },
  {
   "cell_type": "code",
   "execution_count": 8,
   "metadata": {},
   "outputs": [
    {
     "data": {
      "text/plain": [
       "['US',\n",
       " ('ecoinvent', 'US-ASCC'),\n",
       " ('ecoinvent', 'US-NPCC'),\n",
       " ('ecoinvent', 'US-HICC'),\n",
       " ('ecoinvent', 'US-WECC'),\n",
       " ('ecoinvent', 'US-SERC'),\n",
       " ('ecoinvent', 'US-RFC'),\n",
       " ('ecoinvent', 'US-FRCC'),\n",
       " ('ecoinvent', 'US-MRO'),\n",
       " ('ecoinvent', 'US-SPP')]"
      ]
     },
     "execution_count": 8,
     "metadata": {},
     "output_type": "execute_result"
    }
   ],
   "source": [
    "geomatcher.contained(\"US\")"
   ]
  },
  {
   "cell_type": "code",
   "execution_count": 9,
   "metadata": {},
   "outputs": [
    {
     "data": {
      "text/plain": [
       "['GLO',\n",
       " ('ecoinvent', 'UN-AMERICAS'),\n",
       " ('ecoinvent', 'RNA'),\n",
       " ('ecoinvent', 'NAFTA'),\n",
       " ('ecoinvent', 'IAI Area 2, North America'),\n",
       " ('ecoinvent', 'IAI Area 2, without Quebec'),\n",
       " 'US']"
      ]
     },
     "execution_count": 9,
     "metadata": {},
     "output_type": "execute_result"
    }
   ],
   "source": [
    "geomatcher.within(\"US\")"
   ]
  },
  {
   "cell_type": "markdown",
   "metadata": {},
   "source": [
    "For all three operations, you can exclude the input variable:"
   ]
  },
  {
   "cell_type": "code",
   "execution_count": 10,
   "metadata": {},
   "outputs": [
    {
     "data": {
      "text/plain": [
       "['GLO',\n",
       " ('ecoinvent', 'UN-AMERICAS'),\n",
       " ('ecoinvent', 'RNA'),\n",
       " ('ecoinvent', 'NAFTA'),\n",
       " ('ecoinvent', 'IAI Area 2, North America'),\n",
       " ('ecoinvent', 'IAI Area 2, without Quebec')]"
      ]
     },
     "execution_count": 10,
     "metadata": {},
     "output_type": "execute_result"
    }
   ],
   "source": [
    "geomatcher.within(\"US\", include_self=False)"
   ]
  },
  {
   "cell_type": "markdown",
   "metadata": {},
   "source": [
    "You can also change the sorting order, with is biggest first by default."
   ]
  },
  {
   "cell_type": "code",
   "execution_count": 11,
   "metadata": {},
   "outputs": [
    {
     "data": {
      "text/plain": [
       "[('ecoinvent', 'IAI Area 2, without Quebec'),\n",
       " ('ecoinvent', 'IAI Area 2, North America'),\n",
       " ('ecoinvent', 'NAFTA'),\n",
       " ('ecoinvent', 'RNA'),\n",
       " ('ecoinvent', 'UN-AMERICAS'),\n",
       " 'GLO']"
      ]
     },
     "execution_count": 11,
     "metadata": {},
     "output_type": "execute_result"
    }
   ],
   "source": [
    "geomatcher.within(\"US\", include_self=False, biggest_first=False)"
   ]
  },
  {
   "cell_type": "markdown",
   "metadata": {},
   "source": [
    "Finally, you can ask for an list where none of the regions overlap:"
   ]
  },
  {
   "cell_type": "code",
   "execution_count": 12,
   "metadata": {},
   "outputs": [
    {
     "data": {
      "text/plain": [
       "[('ecoinvent', 'US-FRCC'),\n",
       " ('ecoinvent', 'US-MRO'),\n",
       " ('ecoinvent', 'US-SPP'),\n",
       " ('ecoinvent', 'US-TRE'),\n",
       " ('ecoinvent', 'US-RFC'),\n",
       " ('ecoinvent', 'US-SERC'),\n",
       " ('ecoinvent', 'US-WECC'),\n",
       " ('ecoinvent', 'US-HICC'),\n",
       " ('ecoinvent', 'US-NPCC'),\n",
       " ('ecoinvent', 'US-ASCC')]"
      ]
     },
     "execution_count": 12,
     "metadata": {},
     "output_type": "execute_result"
    }
   ],
   "source": [
    "geomatcher.intersects(\"US\", biggest_first=False, exclusive=True)"
   ]
  },
  {
   "cell_type": "markdown",
   "metadata": {},
   "source": [
    "### Rest of World and `resolved_row`\n",
    "\n",
    "By default, the location 'Rest of World' or 'RoW' does not have a fixed spatial definition - it is defined dynamically by whatever is left over some regions are defined. So `RoW(\"France\")` would be the rest of the world, aside from France. As such, 'RoW' is never returned by the GIS functions in `geomatcher`, unless it is defined.\n",
    "\n",
    "You can use the `resolved_row` context manager to define the rest of the world temporarily:"
   ]
  },
  {
   "cell_type": "code",
   "execution_count": 9,
   "metadata": {},
   "outputs": [],
   "source": [
    "assert 'RoW' not in geomatcher\n",
    "\n",
    "with resolved_row([\"FR\", \"GB\"], geomatcher) as g:\n",
    "    assert 'RoW' in g\n",
    "    \n",
    "assert 'RoW' not in geomatcher"
   ]
  },
  {
   "cell_type": "markdown",
   "metadata": {},
   "source": [
    "In this case, the 'US' is not in the 'RoW':"
   ]
  },
  {
   "cell_type": "code",
   "execution_count": 11,
   "metadata": {},
   "outputs": [
    {
     "name": "stdout",
     "output_type": "stream",
     "text": [
      "['GLO', ('ecoinvent', 'UN-AMERICAS'), ('ecoinvent', 'RNA'), ('ecoinvent', 'NAFTA'), ('ecoinvent', 'IAI Area 2, North America'), ('ecoinvent', 'IAI Area 2, without Quebec'), 'US']\n"
     ]
    }
   ],
   "source": [
    "with resolved_row([\"NAFTA\"], geomatcher) as g:\n",
    "    print(geomatcher.within(\"US\"))"
   ]
  },
  {
   "cell_type": "markdown",
   "metadata": {},
   "source": [
    "When the 'RoW' is a valid response, it is treated the same as any other location - it has a set of faces, so will be sorted in the correct order."
   ]
  },
  {
   "cell_type": "code",
   "execution_count": 12,
   "metadata": {},
   "outputs": [
    {
     "name": "stdout",
     "output_type": "stream",
     "text": [
      "['GLO', 'RoW', ('ecoinvent', 'UN-AMERICAS'), ('ecoinvent', 'RNA'), ('ecoinvent', 'NAFTA'), ('ecoinvent', 'IAI Area 2, North America'), ('ecoinvent', 'IAI Area 2, without Quebec'), 'US']\n"
     ]
    }
   ],
   "source": [
    "with resolved_row([\"FR\"], geomatcher) as g:\n",
    "    print(geomatcher.within(\"US\"))"
   ]
  },
  {
   "cell_type": "code",
   "execution_count": 14,
   "metadata": {},
   "outputs": [
    {
     "name": "stdout",
     "output_type": "stream",
     "text": [
      "['US', ('ecoinvent', 'IAI Area 2, without Quebec'), ('ecoinvent', 'IAI Area 2, North America'), ('ecoinvent', 'NAFTA'), ('ecoinvent', 'RNA'), ('ecoinvent', 'UN-AMERICAS'), 'RoW', 'GLO']\n"
     ]
    }
   ],
   "source": [
    "with resolved_row([\"FR\"], geomatcher) as g:\n",
    "    print(geomatcher.within(\"US\", biggest_first=False))"
   ]
  },
  {
   "cell_type": "markdown",
   "metadata": {
    "collapsed": true
   },
   "source": [
    "## Splitting faces\n",
    "\n",
    "Say we wanted to split the island of Honshu and develop a separate inventory for Tokyo. From our graphic above, we know that Honshu has face number 6247. So, we can split this face into two new ones - one of which we will consider Tolyo, and the other the \"Rest of Honshu\"."
   ]
  },
  {
   "cell_type": "code",
   "execution_count": 13,
   "metadata": {},
   "outputs": [
    {
     "data": {
      "text/plain": [
       "(7162, 7163)"
      ]
     },
     "execution_count": 13,
     "metadata": {},
     "output_type": "execute_result"
    }
   ],
   "source": [
    "first, second = geomatcher.split_face(6247)\n",
    "first, second"
   ]
  },
  {
   "cell_type": "code",
   "execution_count": 14,
   "metadata": {
    "collapsed": true
   },
   "outputs": [],
   "source": [
    "geomatcher.topology[(\"example\", \"Rest of Honshu\")] = set([first])\n",
    "geomatcher.topology[(\"example\", \"Tokyo\")] = set([second])"
   ]
  },
  {
   "cell_type": "code",
   "execution_count": 15,
   "metadata": {},
   "outputs": [
    {
     "data": {
      "text/plain": [
       "['JP', ('example', 'Rest of Honshu'), ('example', 'Tokyo')]"
      ]
     },
     "execution_count": 15,
     "metadata": {},
     "output_type": "execute_result"
    }
   ],
   "source": [
    "geomatcher.contained(\"JP\")"
   ]
  },
  {
   "cell_type": "markdown",
   "metadata": {},
   "source": [
    "`split_face` also supports the arguments `number` (number of new faces to create), and `ids` (integers values for the new ids to create). If `ids` is passed, `number` is ignored."
   ]
  },
  {
   "cell_type": "markdown",
   "metadata": {},
   "source": [
    "## Adding new topologies\n",
    "\n",
    "You can also add new topologies to support custom spatial systems. This is how the IMAGE regions are added in Wurst:\n",
    "\n",
    "    geomatcher.add_definitions(IMAGE_TOPOLOGY, \"IMAGE\")\n",
    "    \n",
    "New topologies can be either relative (default) or not. Relative topologies are defined by reference to regions already in the topology:\n",
    "\n",
    "    {\"Russia Region\": [\n",
    "        \"AM\",\n",
    "        \"AZ\",\n",
    "        \"GE\",\n",
    "        \"RU\"\n",
    "    ]}\n",
    "    \n",
    "Non-relative topologies must be defined by a set of integer ids.\n",
    "\n",
    "    {\n",
    "        'A': {1, 2, 3},\n",
    "        'B': {2, 3, 4},\n",
    "    }\n",
    "    \n",
    "Regions added by `add_definitions` will be namespaced with the second argument passed to the function."
   ]
  },
  {
   "cell_type": "code",
   "execution_count": 16,
   "metadata": {
    "collapsed": true
   },
   "outputs": [],
   "source": [
    "topoz = {\"Black Sea\": [\n",
    "    \"RO\",\n",
    "    \"TR\",\n",
    "    \"UA\",\n",
    "    \"GE\",\n",
    "    \"BG\",\n",
    "    \"RU\",\n",
    "]}\n",
    "geomatcher.add_definitions(topoz, \"just added\")"
   ]
  },
  {
   "cell_type": "code",
   "execution_count": 17,
   "metadata": {},
   "outputs": [
    {
     "data": {
      "text/plain": [
       "[('just added', 'Black Sea'),\n",
       " 'RU',\n",
       " ('ecoinvent', 'Russia (Asia)'),\n",
       " ('ecoinvent', 'Russia (Europe)'),\n",
       " 'TR',\n",
       " 'UA',\n",
       " 'BG',\n",
       " 'GE',\n",
       " 'RO']"
      ]
     },
     "execution_count": 17,
     "metadata": {},
     "output_type": "execute_result"
    }
   ],
   "source": [
    "geomatcher.contained((\"just added\", \"Black Sea\"))"
   ]
  },
  {
   "cell_type": "code",
   "execution_count": null,
   "metadata": {
    "collapsed": true
   },
   "outputs": [],
   "source": []
  }
 ],
 "metadata": {
  "kernelspec": {
   "display_name": "Python 3",
   "language": "python",
   "name": "python3"
  },
  "language_info": {
   "codemirror_mode": {
    "name": "ipython",
    "version": 3
   },
   "file_extension": ".py",
   "mimetype": "text/x-python",
   "name": "python",
   "nbconvert_exporter": "python",
   "pygments_lexer": "ipython3",
   "version": "3.6.1"
  }
 },
 "nbformat": 4,
 "nbformat_minor": 2
}
